{
 "cells": [
  {
   "cell_type": "code",
   "execution_count": null,
   "id": "95cb4782",
   "metadata": {},
   "outputs": [],
   "source": [
    "import numpy as np\n",
    "import pandas as pd \n",
    "import matplotlib.pyplot as plt"
   ]
  },
  {
   "cell_type": "code",
   "execution_count": null,
   "id": "7a1959d2",
   "metadata": {},
   "outputs": [],
   "source": [
    "raw_data = pd.read_csv(r'C:\\Users\\zhang\\Dropbox\\cs\\kmeans_blobs.csv')\n",
    "data=raw_data.copy()\n",
    "data.head()"
   ]
  },
  {
   "cell_type": "code",
   "execution_count": null,
   "id": "6a2142b5",
   "metadata": {},
   "outputs": [],
   "source": [
    "data.columns"
   ]
  },
  {
   "cell_type": "code",
   "execution_count": null,
   "id": "e7546f33",
   "metadata": {},
   "outputs": [],
   "source": [
    "data.info()"
   ]
  },
  {
   "cell_type": "code",
   "execution_count": null,
   "id": "8ad2f3c0",
   "metadata": {},
   "outputs": [],
   "source": [
    "fig, ax = plt.subplots(figsize=(8, 6))\n",
    "plt.scatter(data.loc[:,'x'], data.loc[:,'y'],  marker = 'o', \n",
    "            c=data['cluster'].astype('category'), s=80, alpha=0.5)\n",
    "plt.show()"
   ]
  },
  {
   "cell_type": "code",
   "execution_count": null,
   "id": "f262b91b",
   "metadata": {},
   "outputs": [],
   "source": [
    "def centroid_assign(dset, centroids):\n",
    "    '''\n",
    "    Given a dataframe 'dset' and a set of 'centroids', we assign each\n",
    "    data point in 'dset' to a centroid. \n",
    "    - dset - pandas dataframe with observations\n",
    "    - centroids - padas dataframe with centroids\n",
    "    '''\n",
    "    k = centroids.shape[0]\n",
    "    n = dset.shape[0]\n",
    "    assign = []\n",
    "    assign_errors = []\n",
    "\n",
    "    for obs in range(n):\n",
    "        # Estimate error\n",
    "        all_errors = np.array([])\n",
    "        for centroid in range(k):\n",
    "            err = np.square(np.sum((centroids.iloc[centroid, :]-dset.iloc[obs,:])**2))\n",
    "            all_errors = np.append(all_errors, err)\n",
    "\n",
    "        # Get the nearest centroid and the error\n",
    "        nearest_centroid = np.where(all_errors==np.amin(all_errors))[0].tolist()[0]\n",
    "        nearest_centroid_error = np.amin(all_errors)\n",
    "\n",
    "        # Add values to corresponding lists\n",
    "        assign.append(nearest_centroid)\n",
    "        assign_errors.append(nearest_centroid_error)\n",
    "\n",
    "    return assign, assign_errors"
   ]
  },
  {
   "cell_type": "code",
   "execution_count": null,
   "id": "0c40e663",
   "metadata": {},
   "outputs": [],
   "source": [
    "def kmeans(dset, k, tol=1e-4, iteration=2):\n",
    "    '''\n",
    "    K-means implementationd for a \n",
    "    'dset':  DataFrame with observations\n",
    "    'k': number of clusters, default k=2\n",
    "    'tol': tolerance=1E-4\n",
    "    'iteration': iteration=2\n",
    "    ''' \n",
    "    # We define some variables to hold the error, the \n",
    "    # stopping signal and a counter for the iterations\n",
    "    err = []\n",
    "    iters = 0\n",
    "    \n",
    "    # Step 2: Initiate clusters by defining centroids \n",
    "    centroids = dset.sample(k)\n",
    "    print(centroids)\n",
    "\n",
    "    while True:\n",
    "        # Step 3 and 4 - Assign centroids and calculate error\n",
    "        dset['centroid'], j_err = centroid_assign(dset, centroids) \n",
    "        err.append(sum(j_err))\n",
    "        \n",
    "        # Step 5 - Update centroid position\n",
    "        centroids = dset.groupby('centroid').agg('mean').reset_index(drop = True)\n",
    "        print(centroids)\n",
    "\n",
    "        # Step 6 - Restart the iteration\n",
    "        if iters>=iteration:\n",
    "            break\n",
    "        if iters>0:\n",
    "            # Is the error less than a tolerance (1E-4)\n",
    "            if err[iters-1]-err[iters]<=tol:\n",
    "                break\n",
    "        iters+=1\n",
    "\n",
    "    dset['centroid'], j_err = centroid_assign(dset, centroids)\n",
    "    centroids =dset.groupby('centroid').agg('mean').reset_index(drop = True)\n",
    "    return dset['centroid'], j_err, centroids"
   ]
  },
  {
   "cell_type": "code",
   "execution_count": null,
   "id": "c4e8a091",
   "metadata": {},
   "outputs": [],
   "source": [
    "np.random.seed(42)\n",
    "data['centroid'], data['error'], centroids =  kmeans(data[['x','y']], 3, 1e-4, 10)\n",
    "data.head()"
   ]
  },
  {
   "cell_type": "code",
   "execution_count": null,
   "id": "482d420c",
   "metadata": {},
   "outputs": [],
   "source": [
    "fig, ax = plt.subplots(figsize=(8, 6))\n",
    "plt.scatter(data.loc[:,'x'], data.loc[:,'y'],  marker = 'o', \n",
    "            c=data['centroid'].astype('category'), s=80, alpha=0.5)\n",
    "plt.scatter(centroids.loc[:,'x'], centroids.loc[:,'y'],  \n",
    "            marker = 's', s=200, c=[0, 1, 2])\n",
    "plt.show()"
   ]
  },
  {
   "cell_type": "code",
   "execution_count": null,
   "id": "f09fdc34",
   "metadata": {},
   "outputs": [],
   "source": [
    "err_total = []\n",
    "n = 10\n",
    "\n",
    "df_elbow = data.loc[:,['x','y']]\n",
    "\n",
    "for i in range(n):\n",
    "    _, k_errs, _ = kmeans(df_elbow, i+1)\n",
    "    err_total.append(sum(k_errs))\n",
    "fig, ax = plt.subplots(figsize=(8, 6))\n",
    "plt.plot(range(1,n+1), err_total, linewidth=3, marker='o')\n",
    "ax.set_xlabel(r'Number of clusters')\n",
    "ax.set_ylabel(r'Total error')\n",
    "plt.show()"
   ]
  },
  {
   "cell_type": "code",
   "execution_count": null,
   "id": "55d49d11",
   "metadata": {},
   "outputs": [],
   "source": []
  }
 ],
 "metadata": {
  "kernelspec": {
   "display_name": "Python 3 (ipykernel)",
   "language": "python",
   "name": "python3"
  },
  "language_info": {
   "codemirror_mode": {
    "name": "ipython",
    "version": 3
   },
   "file_extension": ".py",
   "mimetype": "text/x-python",
   "name": "python",
   "nbconvert_exporter": "python",
   "pygments_lexer": "ipython3",
   "version": "3.9.13"
  }
 },
 "nbformat": 4,
 "nbformat_minor": 5
}
